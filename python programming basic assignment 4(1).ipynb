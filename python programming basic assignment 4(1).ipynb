{
 "cells": [
  {
   "cell_type": "markdown",
   "id": "f4146bcc",
   "metadata": {},
   "source": [
    "1. Write a Python Program to Find the Factorial of a Number?"
   ]
  },
  {
   "cell_type": "code",
   "execution_count": 8,
   "id": "c6e680ae",
   "metadata": {},
   "outputs": [
    {
     "name": "stdout",
     "output_type": "stream",
     "text": [
      "Enter the number 10\n",
      "Factorial of the number 10 is 3628800\n"
     ]
    }
   ],
   "source": [
    "x=int(input(\"Enter the number \"))\n",
    "j=1\n",
    "for i in range(1,x+1):\n",
    "    j=i*j\n",
    "print(\"Factorial of the number {} is {}\".format(x,j))"
   ]
  },
  {
   "cell_type": "markdown",
   "id": "05f42db7",
   "metadata": {},
   "source": [
    "2. Write a Python Program to Display the multiplication Table?"
   ]
  },
  {
   "cell_type": "code",
   "execution_count": 12,
   "id": "af0bedc8",
   "metadata": {},
   "outputs": [
    {
     "name": "stdout",
     "output_type": "stream",
     "text": [
      "Enter the number to get multiplication table 5\n",
      "5*1= 5\n",
      "5*2= 10\n",
      "5*3= 15\n",
      "5*4= 20\n",
      "5*5= 25\n",
      "5*6= 30\n",
      "5*7= 35\n",
      "5*8= 40\n",
      "5*9= 45\n",
      "5*10= 50\n"
     ]
    }
   ],
   "source": [
    "x=int(input(\"Enter the number to get multiplication table \"))\n",
    "for i in range(1,11):\n",
    "    print(\"{}*{}= {}\".format(x,i,x*i))"
   ]
  },
  {
   "cell_type": "markdown",
   "id": "8d937bca",
   "metadata": {},
   "source": [
    "3. Write a Python Program to Print the Fibonacci sequence?"
   ]
  },
  {
   "cell_type": "code",
   "execution_count": 4,
   "id": "eb0dabf9",
   "metadata": {},
   "outputs": [
    {
     "name": "stdout",
     "output_type": "stream",
     "text": [
      "How many no's in fibanocci series do you want to print 5\n",
      "0\n",
      "1\n",
      "1\n",
      "2\n",
      "3\n"
     ]
    }
   ],
   "source": [
    "x=int(input(\"How many no's in fibanocci series do you want to print \"))\n",
    "y=0\n",
    "z=1\n",
    "s=0\n",
    "while x>0:\n",
    "    print(y)\n",
    "    s=y+z\n",
    "    y=z\n",
    "    z=s\n",
    "    x-=1\n",
    "        "
   ]
  },
  {
   "cell_type": "markdown",
   "id": "55356417",
   "metadata": {},
   "source": [
    "4. Write a Python Program to Check Armstrong Number?"
   ]
  },
  {
   "cell_type": "code",
   "execution_count": 3,
   "id": "20ab01ec",
   "metadata": {},
   "outputs": [
    {
     "name": "stdout",
     "output_type": "stream",
     "text": [
      "check if a number is an armstrong number 8208\n",
      "Its an armstrong number\n"
     ]
    }
   ],
   "source": [
    "x=input(\"check if a number is an armstrong number \")\n",
    "sum=0\n",
    "count=0\n",
    "sum1=\"\"\n",
    "for i in x:\n",
    "    count=count+1\n",
    "for i in x:\n",
    "    sum=sum+int(i)**count\n",
    "    sum1=sum1+i\n",
    "if sum==int(sum1):\n",
    "    print(\"Its an armstrong number\")\n",
    "else:\n",
    "    print(\"Not an armstrong number\")"
   ]
  },
  {
   "cell_type": "markdown",
   "id": "1ac094f4",
   "metadata": {},
   "source": [
    "5. Write a Python Program to Find Armstrong Number in an Interval?"
   ]
  },
  {
   "cell_type": "code",
   "execution_count": 4,
   "id": "4eb2a94a",
   "metadata": {},
   "outputs": [
    {
     "name": "stdout",
     "output_type": "stream",
     "text": [
      "enter lower limit 0\n",
      "enter higher limit 10000\n",
      "1 Its an armstrong number\n",
      "2 Its an armstrong number\n",
      "3 Its an armstrong number\n",
      "4 Its an armstrong number\n",
      "5 Its an armstrong number\n",
      "6 Its an armstrong number\n",
      "7 Its an armstrong number\n",
      "8 Its an armstrong number\n",
      "9 Its an armstrong number\n",
      "153 Its an armstrong number\n",
      "370 Its an armstrong number\n",
      "371 Its an armstrong number\n",
      "407 Its an armstrong number\n",
      "1634 Its an armstrong number\n",
      "8208 Its an armstrong number\n",
      "9474 Its an armstrong number\n"
     ]
    }
   ],
   "source": [
    "x=input(\"enter lower limit \")\n",
    "y=input(\"enter higher limit \")\n",
    "\n",
    "for i in range(int(x)+1,int(y)):\n",
    "    sum=0\n",
    "    count=0\n",
    "    sum1=\"\"\n",
    "    for j in str(i):\n",
    "        count=count+1\n",
    "    for j in str(i):\n",
    "        sum=sum+int(j)**count\n",
    "        sum1=sum1+j\n",
    "    if sum==int(sum1):\n",
    "        print(sum,\"Its an armstrong number\")"
   ]
  },
  {
   "cell_type": "markdown",
   "id": "d187f8f7",
   "metadata": {},
   "source": [
    "6. Write a Python Program to Find the Sum of Natural Numbers?"
   ]
  },
  {
   "cell_type": "code",
   "execution_count": 4,
   "id": "18d3bdf8",
   "metadata": {},
   "outputs": [
    {
     "name": "stdout",
     "output_type": "stream",
     "text": [
      "21\n",
      "231\n"
     ]
    }
   ],
   "source": [
    "x=int(input())\n",
    "sum=0\n",
    "for i in range(1,x+1):\n",
    "    sum=sum+i\n",
    "print(sum)"
   ]
  },
  {
   "cell_type": "code",
   "execution_count": null,
   "id": "d3562e11",
   "metadata": {},
   "outputs": [],
   "source": [
    "\n"
   ]
  },
  {
   "cell_type": "code",
   "execution_count": null,
   "id": "98a95180",
   "metadata": {},
   "outputs": [],
   "source": []
  }
 ],
 "metadata": {
  "kernelspec": {
   "display_name": "Python 3",
   "language": "python",
   "name": "python3"
  },
  "language_info": {
   "codemirror_mode": {
    "name": "ipython",
    "version": 3
   },
   "file_extension": ".py",
   "mimetype": "text/x-python",
   "name": "python",
   "nbconvert_exporter": "python",
   "pygments_lexer": "ipython3",
   "version": "3.8.8"
  }
 },
 "nbformat": 4,
 "nbformat_minor": 5
}
