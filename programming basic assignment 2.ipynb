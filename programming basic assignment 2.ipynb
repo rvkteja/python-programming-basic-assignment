{
 "cells": [
  {
   "cell_type": "markdown",
   "metadata": {},
   "source": [
    "1. Write a Python program to convert kilometers to miles?"
   ]
  },
  {
   "cell_type": "code",
   "execution_count": 16,
   "metadata": {},
   "outputs": [
    {
     "name": "stdout",
     "output_type": "stream",
     "text": [
      "enter kilometers 10\n",
      "10 kilometers is equal to 6.21371 miles\n"
     ]
    }
   ],
   "source": [
    "k=int(input(\"enter kilometers \"))\n",
    "print (\"{} kilometers is equal to {} miles\".format(k,0.621371*k))"
   ]
  },
  {
   "cell_type": "markdown",
   "metadata": {},
   "source": [
    "2. Write a Python program to convert Celsius to Fahrenheit?"
   ]
  },
  {
   "cell_type": "code",
   "execution_count": 17,
   "metadata": {},
   "outputs": [
    {
     "name": "stdout",
     "output_type": "stream",
     "text": [
      "enter degrees in celsius 3\n",
      "3 celsius is equal to 37.4 Fahrenheit\n"
     ]
    }
   ],
   "source": [
    "k=int(input(\"enter degrees in celsius \"))\n",
    "print (\"{} celsius is equal to {} Fahrenheit\".format(k,((9*k)/5)+32))"
   ]
  },
  {
   "cell_type": "markdown",
   "metadata": {},
   "source": [
    "3. Write a Python program to display calendar?"
   ]
  },
  {
   "cell_type": "code",
   "execution_count": 45,
   "metadata": {},
   "outputs": [
    {
     "name": "stdout",
     "output_type": "stream",
     "text": [
      "Enter year2021 \n",
      "Enter month5\n",
      "      May 2021\n",
      "Mo Tu We Th Fr Sa Su\n",
      "                1  2\n",
      " 3  4  5  6  7  8  9\n",
      "10 11 12 13 14 15 16\n",
      "17 18 19 20 21 22 23\n",
      "24 25 26 27 28 29 30\n",
      "31\n",
      "\n"
     ]
    }
   ],
   "source": [
    "import calendar\n",
    "y=int(input(\"Enter year\"))\n",
    "m=int(input(\"Enter month\"))\n",
    "print(calendar.month(y,m))"
   ]
  },
  {
   "cell_type": "markdown",
   "metadata": {},
   "source": [
    "4. Write a Python program to solve quadratic equation?\n",
    "\n",
    "ax2+bx+c=0"
   ]
  },
  {
   "cell_type": "code",
   "execution_count": 34,
   "metadata": {},
   "outputs": [
    {
     "data": {
      "text/plain": [
       "'quadratic equation can have one or two soultions based on the discriminant\\n discriminant is (b^2-4ac)\\n solutions of quadratic equation are\\n sol1= (b+sqrt(d))/2*a\\n sol2= (b-sqrt(d))/2*a\\n'"
      ]
     },
     "execution_count": 34,
     "metadata": {},
     "output_type": "execute_result"
    }
   ],
   "source": [
    "import cmath\n",
    "def quadeqn(a,b,c):\n",
    "    d=cmath.sqrt(b**2-4*a*c)\n",
    "    sol1=(b+d)/2*a\n",
    "    sol2=(b-d)/2*a\n",
    "    print(sol1,sol2)\n",
    "\"\"\"quadratic equation can have one or two soultions based on the discriminant\n",
    " discriminant is (b^2-4ac)\n",
    " solutions of quadratic equation are\n",
    " sol1= (b+sqrt(d))/2*a\n",
    " sol2= (b-sqrt(d))/2*a\n",
    "\"\"\""
   ]
  },
  {
   "cell_type": "code",
   "execution_count": 35,
   "metadata": {},
   "outputs": [
    {
     "name": "stdout",
     "output_type": "stream",
     "text": [
      "(4.7912878474779195+0j) (0.20871215252208009+0j)\n"
     ]
    }
   ],
   "source": [
    "quadeqn(1,5,1)"
   ]
  },
  {
   "cell_type": "markdown",
   "metadata": {},
   "source": [
    "5. Write a Python program to swap two variables without temp variable?"
   ]
  },
  {
   "cell_type": "code",
   "execution_count": 25,
   "metadata": {},
   "outputs": [],
   "source": [
    "def swapp(a,b):\n",
    "    a=a+b\n",
    "    b=a-b\n",
    "    a=a-b\n",
    "    return a,b"
   ]
  },
  {
   "cell_type": "code",
   "execution_count": 26,
   "metadata": {},
   "outputs": [
    {
     "data": {
      "text/plain": [
       "(2, 1)"
      ]
     },
     "execution_count": 26,
     "metadata": {},
     "output_type": "execute_result"
    }
   ],
   "source": [
    "swapp(1,2)"
   ]
  }
 ],
 "metadata": {
  "kernelspec": {
   "display_name": "Python 3",
   "language": "python",
   "name": "python3"
  },
  "language_info": {
   "codemirror_mode": {
    "name": "ipython",
    "version": 3
   },
   "file_extension": ".py",
   "mimetype": "text/x-python",
   "name": "python",
   "nbconvert_exporter": "python",
   "pygments_lexer": "ipython3",
   "version": "3.8.5"
  }
 },
 "nbformat": 4,
 "nbformat_minor": 4
}
